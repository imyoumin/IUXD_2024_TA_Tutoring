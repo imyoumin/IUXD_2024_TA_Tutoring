{
  "nbformat": 4,
  "nbformat_minor": 0,
  "metadata": {
    "colab": {
      "provenance": [],
      "authorship_tag": "ABX9TyNG2YV2FJMd4QVB00IxvkZb",
      "include_colab_link": true
    },
    "kernelspec": {
      "name": "python3",
      "display_name": "Python 3"
    },
    "language_info": {
      "name": "python"
    }
  },
  "cells": [
    {
      "cell_type": "markdown",
      "metadata": {
        "id": "view-in-github",
        "colab_type": "text"
      },
      "source": [
        "<a href=\"https://colab.research.google.com/github/imyoumin/IUXD_2024_TA_Tutoring/blob/main/google_image_crawing.ipynb\" target=\"_parent\"><img src=\"https://colab.research.google.com/assets/colab-badge.svg\" alt=\"Open In Colab\"/></a>"
      ]
    },
    {
      "cell_type": "markdown",
      "source": [
        "#필요한 패키지와 webdriver 설치\n",
        "*  Install necessary packages and webdriver\n",
        "\n"
      ],
      "metadata": {
        "id": "7HQ73Kid54yx"
      }
    },
    {
      "cell_type": "code",
      "execution_count": null,
      "metadata": {
        "id": "lE-f97Wqgjin",
        "colab": {
          "base_uri": "https://localhost:8080/"
        },
        "outputId": "d6e90ebe-5e4a-42e0-cdd0-33c1deb58136"
      },
      "outputs": [
        {
          "output_type": "stream",
          "name": "stdout",
          "text": [
            "Requirement already satisfied: selenium in /usr/local/lib/python3.10/dist-packages (4.18.1)\n",
            "Requirement already satisfied: pillow in /usr/local/lib/python3.10/dist-packages (9.4.0)\n",
            "Requirement already satisfied: urllib3[socks]<3,>=1.26 in /usr/local/lib/python3.10/dist-packages (from selenium) (2.0.7)\n",
            "Requirement already satisfied: trio~=0.17 in /usr/local/lib/python3.10/dist-packages (from selenium) (0.25.0)\n",
            "Requirement already satisfied: trio-websocket~=0.9 in /usr/local/lib/python3.10/dist-packages (from selenium) (0.11.1)\n",
            "Requirement already satisfied: certifi>=2021.10.8 in /usr/local/lib/python3.10/dist-packages (from selenium) (2024.2.2)\n",
            "Requirement already satisfied: typing_extensions>=4.9.0 in /usr/local/lib/python3.10/dist-packages (from selenium) (4.10.0)\n",
            "Requirement already satisfied: attrs>=23.2.0 in /usr/local/lib/python3.10/dist-packages (from trio~=0.17->selenium) (23.2.0)\n",
            "Requirement already satisfied: sortedcontainers in /usr/local/lib/python3.10/dist-packages (from trio~=0.17->selenium) (2.4.0)\n",
            "Requirement already satisfied: idna in /usr/local/lib/python3.10/dist-packages (from trio~=0.17->selenium) (3.6)\n",
            "Requirement already satisfied: outcome in /usr/local/lib/python3.10/dist-packages (from trio~=0.17->selenium) (1.3.0.post0)\n",
            "Requirement already satisfied: sniffio>=1.3.0 in /usr/local/lib/python3.10/dist-packages (from trio~=0.17->selenium) (1.3.1)\n",
            "Requirement already satisfied: exceptiongroup in /usr/local/lib/python3.10/dist-packages (from trio~=0.17->selenium) (1.2.0)\n",
            "Requirement already satisfied: wsproto>=0.14 in /usr/local/lib/python3.10/dist-packages (from trio-websocket~=0.9->selenium) (1.2.0)\n",
            "Requirement already satisfied: pysocks!=1.5.7,<2.0,>=1.5.6 in /usr/local/lib/python3.10/dist-packages (from urllib3[socks]<3,>=1.26->selenium) (1.7.1)\n",
            "Requirement already satisfied: h11<1,>=0.9.0 in /usr/local/lib/python3.10/dist-packages (from wsproto>=0.14->trio-websocket~=0.9->selenium) (0.14.0)\n",
            "Hit:1 https://cloud.r-project.org/bin/linux/ubuntu jammy-cran40/ InRelease\n",
            "Hit:2 https://developer.download.nvidia.com/compute/cuda/repos/ubuntu2204/x86_64  InRelease\n",
            "Hit:3 http://archive.ubuntu.com/ubuntu jammy InRelease\n",
            "Hit:4 http://security.ubuntu.com/ubuntu jammy-security InRelease\n",
            "Hit:5 http://archive.ubuntu.com/ubuntu jammy-updates InRelease\n",
            "Hit:6 http://archive.ubuntu.com/ubuntu jammy-backports InRelease\n",
            "Hit:7 https://ppa.launchpadcontent.net/c2d4u.team/c2d4u4.0+/ubuntu jammy InRelease\n",
            "Hit:8 https://ppa.launchpadcontent.net/deadsnakes/ppa/ubuntu jammy InRelease\n",
            "Hit:9 https://ppa.launchpadcontent.net/graphics-drivers/ppa/ubuntu jammy InRelease\n",
            "Hit:10 https://ppa.launchpadcontent.net/ubuntugis/ppa/ubuntu jammy InRelease\n",
            "Reading package lists... Done\n",
            "Reading package lists... Done\n",
            "Building dependency tree... Done\n",
            "Reading state information... Done\n",
            "chromium-chromedriver is already the newest version (1:85.0.4183.83-0ubuntu2.22.04.1).\n",
            "0 upgraded, 0 newly installed, 0 to remove and 44 not upgraded.\n",
            "cp: '/usr/lib/chromium-browser/chromedriver' and '/usr/bin/chromedriver' are the same file\n"
          ]
        }
      ],
      "source": [
        "!pip install selenium pillow\n",
        "!apt-get update\n",
        "!apt install chromium-chromedriver\n",
        "!cp /usr/lib/chromium-browser/chromedriver /usr/bin\n",
        "\n",
        "from selenium import webdriver\n",
        "from selenium.webdriver.common.by import By\n",
        "from selenium.webdriver.support.ui import WebDriverWait\n",
        "from selenium.webdriver.support import expected_conditions as EC\n",
        "from selenium.webdriver.common.keys import Keys\n",
        "from selenium.webdriver.chrome.options import Options\n",
        "from PIL import Image\n",
        "from io import BytesIO\n",
        "import time\n",
        "import base64\n",
        "import os\n",
        "\n"
      ]
    },
    {
      "cell_type": "markdown",
      "source": [
        "# 웹 페이지 스크롤 함수\n",
        "*   web page scroll function\n",
        "\n",
        "\n"
      ],
      "metadata": {
        "id": "18p8VJL16Fal"
      }
    },
    {
      "cell_type": "code",
      "source": [
        "def scroll_to_bottom(driver):\n",
        "    last_height = driver.execute_script(\"return document.body.scrollHeight\")\n",
        "    while True:\n",
        "        driver.execute_script(\"window.scrollTo(0, document.body.scrollHeight);\")\n",
        "        time.sleep(3)\n",
        "        try:\n",
        "            more_button = WebDriverWait(driver, 10).until(\n",
        "                EC.presence_of_element_located((By.CSS_SELECTOR, 'input[type=\"button\"].XfJHbe'))\n",
        "            )\n",
        "            if more_button:\n",
        "                driver.execute_script(\"arguments[0].click();\", more_button)\n",
        "                print(\"Clicked 'Show more results' button.\")\n",
        "                time.sleep(3)\n",
        "        except Exception as e:\n",
        "            print(\"No more 'Show more results' button.\", e)\n",
        "            break\n",
        "        new_height = driver.execute_script(\"return document.body.scrollHeight\")\n",
        "        if new_height == last_height:\n",
        "            break\n",
        "        last_height = new_height"
      ],
      "metadata": {
        "id": "56UepJNDi07z"
      },
      "execution_count": null,
      "outputs": []
    },
    {
      "cell_type": "markdown",
      "source": [
        "# 구글 이미지 크롤링\n",
        "*   Google Image Crawling\n",
        "\n"
      ],
      "metadata": {
        "id": "xZVevpas6O3r"
      }
    },
    {
      "cell_type": "code",
      "source": [
        "chrome_options = webdriver.ChromeOptions()\n",
        "chrome_options.add_argument('--headless')\n",
        "chrome_options.add_argument('--no-sandbox')\n",
        "chrome_options.add_argument('--disable-dev-shm-usage')\n",
        "\n",
        "driver = webdriver.Chrome(options=chrome_options)\n",
        "\n",
        "\n",
        "save_dir = '/content/thumbnails'\n",
        "if not os.path.exists(save_dir):\n",
        "    os.makedirs(save_dir)\n",
        "\n",
        "driver.get(\"https://www.google.com\")\n",
        "search_query = \"포켓몬\" # Enter the text you want to search for\n",
        "search_box = driver.find_element(By.NAME, 'q')\n",
        "search_box.send_keys(search_query + \" images\")\n",
        "search_box.send_keys(Keys.ENTER)\n",
        "\n",
        "images_link_locator = (By.CSS_SELECTOR, 'div[jsname=\"bVqjv\"]')\n",
        "WebDriverWait(driver, 10).until(EC.element_to_be_clickable(images_link_locator)).click()\n",
        "\n",
        "scroll_to_bottom(driver)\n",
        "\n",
        "thumbnails = driver.find_elements(By.CSS_SELECTOR, 'img.Q4LuWd')\n",
        "\n",
        "\n",
        "for i, thumbnail in enumerate(thumbnails[:100]): # Enter the image you want to download Rolling 100 images\n",
        "    img_url = thumbnail.get_attribute('src')\n",
        "    try:\n",
        "        if img_url.startswith('http'):\n",
        "            img_bytes = BytesIO(thumbnail.screenshot_as_png)\n",
        "            img = Image.open(img_bytes)\n",
        "        else:\n",
        "            base64_str = img_url.split(',')[1]\n",
        "            img_bytes = base64.b64decode(base64_str)\n",
        "            img = Image.open(BytesIO(img_bytes))\n",
        "\n",
        "        img_path = os.path.join(save_dir, f'image_{i}.png')\n",
        "        img.save(img_path)\n",
        "        print(f'Successfully saved: {img_path}')\n",
        "    except Exception as e:\n",
        "        print(f'Error downloading or saving image: {e}')\n",
        "\n",
        "driver.quit()"
      ],
      "metadata": {
        "id": "BVjKkHIu51gn",
        "colab": {
          "base_uri": "https://localhost:8080/"
        },
        "outputId": "5e9bfdca-3508-471a-b970-a480fdb3ee40"
      },
      "execution_count": null,
      "outputs": [
        {
          "output_type": "stream",
          "name": "stdout",
          "text": [
            "No more 'Show more results' button. Message: \n",
            "Stacktrace:\n",
            "#0 0x55e8d8ec7f33 <unknown>\n",
            "#1 0x55e8d8bbfce6 <unknown>\n",
            "#2 0x55e8d8c0ae48 <unknown>\n",
            "#3 0x55e8d8c0af01 <unknown>\n",
            "#4 0x55e8d8c4e3f4 <unknown>\n",
            "#5 0x55e8d8c2cedd <unknown>\n",
            "#6 0x55e8d8c4b899 <unknown>\n",
            "#7 0x55e8d8c2cc53 <unknown>\n",
            "#8 0x55e8d8bfddb3 <unknown>\n",
            "#9 0x55e8d8bfe77e <unknown>\n",
            "#10 0x55e8d8e8d86b <unknown>\n",
            "#11 0x55e8d8e91885 <unknown>\n",
            "#12 0x55e8d8e7b181 <unknown>\n",
            "#13 0x55e8d8e92412 <unknown>\n",
            "#14 0x55e8d8e5f25f <unknown>\n",
            "#15 0x55e8d8eb6528 <unknown>\n",
            "#16 0x55e8d8eb6723 <unknown>\n",
            "#17 0x55e8d8ec70e4 <unknown>\n",
            "#18 0x7d1dcf709ac3 <unknown>\n",
            "\n",
            "Successfully saved: /content/thumbnails/image_0.png\n",
            "Successfully saved: /content/thumbnails/image_1.png\n",
            "Successfully saved: /content/thumbnails/image_2.png\n",
            "Successfully saved: /content/thumbnails/image_3.png\n",
            "Successfully saved: /content/thumbnails/image_4.png\n",
            "Successfully saved: /content/thumbnails/image_5.png\n",
            "Successfully saved: /content/thumbnails/image_6.png\n",
            "Successfully saved: /content/thumbnails/image_7.png\n",
            "Successfully saved: /content/thumbnails/image_8.png\n",
            "Successfully saved: /content/thumbnails/image_9.png\n",
            "Successfully saved: /content/thumbnails/image_10.png\n",
            "Successfully saved: /content/thumbnails/image_11.png\n",
            "Successfully saved: /content/thumbnails/image_12.png\n",
            "Successfully saved: /content/thumbnails/image_13.png\n",
            "Successfully saved: /content/thumbnails/image_14.png\n",
            "Successfully saved: /content/thumbnails/image_15.png\n",
            "Successfully saved: /content/thumbnails/image_16.png\n",
            "Successfully saved: /content/thumbnails/image_17.png\n",
            "Successfully saved: /content/thumbnails/image_18.png\n",
            "Successfully saved: /content/thumbnails/image_19.png\n",
            "Error downloading or saving image: 'NoneType' object has no attribute 'startswith'\n",
            "Error downloading or saving image: 'NoneType' object has no attribute 'startswith'\n",
            "Error downloading or saving image: 'NoneType' object has no attribute 'startswith'\n",
            "Error downloading or saving image: 'NoneType' object has no attribute 'startswith'\n",
            "Error downloading or saving image: 'NoneType' object has no attribute 'startswith'\n",
            "Error downloading or saving image: 'NoneType' object has no attribute 'startswith'\n",
            "Error downloading or saving image: 'NoneType' object has no attribute 'startswith'\n",
            "Error downloading or saving image: 'NoneType' object has no attribute 'startswith'\n",
            "Error downloading or saving image: 'NoneType' object has no attribute 'startswith'\n",
            "Error downloading or saving image: 'NoneType' object has no attribute 'startswith'\n",
            "Error downloading or saving image: 'NoneType' object has no attribute 'startswith'\n",
            "Error downloading or saving image: 'NoneType' object has no attribute 'startswith'\n",
            "Successfully saved: /content/thumbnails/image_32.png\n",
            "Successfully saved: /content/thumbnails/image_33.png\n",
            "Successfully saved: /content/thumbnails/image_34.png\n",
            "Successfully saved: /content/thumbnails/image_35.png\n",
            "Successfully saved: /content/thumbnails/image_36.png\n",
            "Successfully saved: /content/thumbnails/image_37.png\n",
            "Successfully saved: /content/thumbnails/image_38.png\n",
            "Successfully saved: /content/thumbnails/image_39.png\n",
            "Successfully saved: /content/thumbnails/image_40.png\n",
            "Successfully saved: /content/thumbnails/image_41.png\n",
            "Successfully saved: /content/thumbnails/image_42.png\n",
            "Successfully saved: /content/thumbnails/image_43.png\n",
            "Successfully saved: /content/thumbnails/image_44.png\n",
            "Successfully saved: /content/thumbnails/image_45.png\n",
            "Successfully saved: /content/thumbnails/image_46.png\n",
            "Successfully saved: /content/thumbnails/image_47.png\n",
            "Successfully saved: /content/thumbnails/image_48.png\n",
            "Successfully saved: /content/thumbnails/image_49.png\n",
            "Successfully saved: /content/thumbnails/image_50.png\n",
            "Successfully saved: /content/thumbnails/image_51.png\n",
            "Successfully saved: /content/thumbnails/image_52.png\n",
            "Successfully saved: /content/thumbnails/image_53.png\n",
            "Successfully saved: /content/thumbnails/image_54.png\n",
            "Successfully saved: /content/thumbnails/image_55.png\n",
            "Successfully saved: /content/thumbnails/image_56.png\n",
            "Successfully saved: /content/thumbnails/image_57.png\n",
            "Successfully saved: /content/thumbnails/image_58.png\n",
            "Successfully saved: /content/thumbnails/image_59.png\n",
            "Successfully saved: /content/thumbnails/image_60.png\n",
            "Successfully saved: /content/thumbnails/image_61.png\n",
            "Successfully saved: /content/thumbnails/image_62.png\n",
            "Successfully saved: /content/thumbnails/image_63.png\n",
            "Successfully saved: /content/thumbnails/image_64.png\n",
            "Successfully saved: /content/thumbnails/image_65.png\n",
            "Successfully saved: /content/thumbnails/image_66.png\n",
            "Successfully saved: /content/thumbnails/image_67.png\n",
            "Successfully saved: /content/thumbnails/image_68.png\n",
            "Successfully saved: /content/thumbnails/image_69.png\n",
            "Successfully saved: /content/thumbnails/image_70.png\n",
            "Successfully saved: /content/thumbnails/image_71.png\n",
            "Successfully saved: /content/thumbnails/image_72.png\n",
            "Successfully saved: /content/thumbnails/image_73.png\n",
            "Successfully saved: /content/thumbnails/image_74.png\n",
            "Successfully saved: /content/thumbnails/image_75.png\n",
            "Successfully saved: /content/thumbnails/image_76.png\n",
            "Successfully saved: /content/thumbnails/image_77.png\n",
            "Successfully saved: /content/thumbnails/image_78.png\n",
            "Successfully saved: /content/thumbnails/image_79.png\n",
            "Successfully saved: /content/thumbnails/image_80.png\n",
            "Successfully saved: /content/thumbnails/image_81.png\n",
            "Successfully saved: /content/thumbnails/image_82.png\n",
            "Successfully saved: /content/thumbnails/image_83.png\n",
            "Successfully saved: /content/thumbnails/image_84.png\n",
            "Successfully saved: /content/thumbnails/image_85.png\n",
            "Successfully saved: /content/thumbnails/image_86.png\n",
            "Successfully saved: /content/thumbnails/image_87.png\n",
            "Successfully saved: /content/thumbnails/image_88.png\n",
            "Successfully saved: /content/thumbnails/image_89.png\n",
            "Successfully saved: /content/thumbnails/image_90.png\n",
            "Successfully saved: /content/thumbnails/image_91.png\n",
            "Successfully saved: /content/thumbnails/image_92.png\n",
            "Successfully saved: /content/thumbnails/image_93.png\n",
            "Successfully saved: /content/thumbnails/image_94.png\n",
            "Successfully saved: /content/thumbnails/image_95.png\n",
            "Successfully saved: /content/thumbnails/image_96.png\n",
            "Successfully saved: /content/thumbnails/image_97.png\n",
            "Successfully saved: /content/thumbnails/image_98.png\n",
            "Successfully saved: /content/thumbnails/image_99.png\n"
          ]
        }
      ]
    }
  ]
}