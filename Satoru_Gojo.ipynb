{
  "nbformat": 4,
  "nbformat_minor": 0,
  "metadata": {
    "colab": {
      "provenance": [],
      "authorship_tag": "ABX9TyPinSk/+apsVbQ5F8RJU8IN",
      "include_colab_link": true
    },
    "kernelspec": {
      "name": "python3",
      "display_name": "Python 3"
    },
    "language_info": {
      "name": "python"
    }
  },
  "cells": [
    {
      "cell_type": "markdown",
      "metadata": {
        "id": "view-in-github",
        "colab_type": "text"
      },
      "source": [
        "<a href=\"https://colab.research.google.com/github/imyoumin/IUXD_2024_TA_Tutoring/blob/main/Satoru_Gojo.ipynb\" target=\"_parent\"><img src=\"https://colab.research.google.com/assets/colab-badge.svg\" alt=\"Open In Colab\"/></a>"
      ]
    },
    {
      "cell_type": "markdown",
      "source": [
        "\n",
        "# Pillow 라이브러리 설치\n"
      ],
      "metadata": {
        "id": "epagY3LIycMT"
      }
    },
    {
      "cell_type": "code",
      "source": [
        "!pip install Pillow"
      ],
      "metadata": {
        "colab": {
          "base_uri": "https://localhost:8080/"
        },
        "id": "HTOQLH9sv8X9",
        "outputId": "d3cccf64-a08c-4bf5-d549-80e13f3e7cf6"
      },
      "execution_count": null,
      "outputs": [
        {
          "output_type": "stream",
          "name": "stdout",
          "text": [
            "Requirement already satisfied: Pillow in /usr/local/lib/python3.10/dist-packages (9.4.0)\n"
          ]
        }
      ]
    },
    {
      "cell_type": "markdown",
      "source": [
        "# 이미지 불러오고 반으로 나누기"
      ],
      "metadata": {
        "id": "dg-MZ9CDydjC"
      }
    },
    {
      "cell_type": "code",
      "source": [
        "from PIL import Image\n",
        "\n",
        "image_path = '/content/gojo Mosaic.jpg' # 여기에 이미지 경로를 입력하세요.\n",
        "image = Image.open(image_path)\n",
        "\n",
        "width, height = image.size\n",
        "left_image = image.crop((0, 0, width/2, height))\n",
        "right_image = image.crop((width/2, 0, width, height))\n",
        "\n",
        "left_image_path = '/content/pytorch-AdaIN/input/content/left_half.jpg'\n",
        "right_image_path = '/content/pytorch-AdaIN/input/content/right_half.jpg'\n",
        "left_image.save(left_image_path)\n",
        "right_image.save(right_image_path)\n"
      ],
      "metadata": {
        "id": "ztf84_Svv9Z-"
      },
      "execution_count": null,
      "outputs": []
    },
    {
      "cell_type": "markdown",
      "source": [
        "# PyTorch 기반 AdaIN(Adaptive Instance Normalization) 프로젝트 설정"
      ],
      "metadata": {
        "id": "efpzr2F-yfTF"
      }
    },
    {
      "cell_type": "code",
      "execution_count": null,
      "metadata": {
        "id": "igqtKWqfpKpf",
        "colab": {
          "base_uri": "https://localhost:8080/"
        },
        "outputId": "41407805-64b5-44d2-bac9-9bead30bf0f6"
      },
      "outputs": [
        {
          "output_type": "stream",
          "name": "stdout",
          "text": [
            "Cloning into 'pytorch-AdaIN'...\n",
            "remote: Enumerating objects: 344, done.\u001b[K\n",
            "remote: Counting objects: 100% (96/96), done.\u001b[K\n",
            "remote: Compressing objects: 100% (36/36), done.\u001b[K\n",
            "remote: Total 344 (delta 73), reused 70 (delta 60), pack-reused 248\u001b[K\n",
            "Receiving objects: 100% (344/344), 7.80 MiB | 20.26 MiB/s, done.\n",
            "Resolving deltas: 100% (171/171), done.\n",
            "/content/pytorch-AdaIN\n"
          ]
        }
      ],
      "source": [
        "!git clone https://github.com/naoto0804/pytorch-AdaIN\n",
        "%cd pytorch-AdaIN\n",
        "!mkdir models"
      ]
    },
    {
      "cell_type": "markdown",
      "source": [
        "## 왼쪽 사진스타일 트랜스퍼 적용"
      ],
      "metadata": {
        "id": "xLwrMrcTyhB2"
      }
    },
    {
      "cell_type": "code",
      "source": [
        "!CUDA_VISIBLE_DEVICES=0 python test.py --content /content/pytorch-AdaIN/input/content/left_half.jpg --style /content/pytorch-AdaIN/input/style/picasso_seated_nude_hr.jpg --alpha 1.0"
      ],
      "metadata": {
        "id": "5va3XqMIpXwX"
      },
      "execution_count": null,
      "outputs": []
    },
    {
      "cell_type": "markdown",
      "source": [
        "## 오른쪽 사진스타일 트랜스퍼 적용"
      ],
      "metadata": {
        "id": "M4KXD44OyiGM"
      }
    },
    {
      "cell_type": "code",
      "source": [
        "!CUDA_VISIBLE_DEVICES=0 python test.py --content /content/pytorch-AdaIN/input/content/right_half.jpg --style /content/pytorch-AdaIN/input/style/scene_de_rue.jpg --alpha 1.0"
      ],
      "metadata": {
        "id": "3AeuvizSxEvd"
      },
      "execution_count": null,
      "outputs": []
    },
    {
      "cell_type": "markdown",
      "source": [
        "# 분리된 사진 다시 합치기"
      ],
      "metadata": {
        "id": "3tcaySs9yjmu"
      }
    },
    {
      "cell_type": "code",
      "source": [
        "left_image_path = '/content/pytorch-AdaIN/output/left_half_stylized_picasso_seated_nude_hr.jpg'\n",
        "right_image_path = '/content/pytorch-AdaIN/output/right_half_stylized_scene_de_rue.jpg'\n",
        "left_image = Image.open(left_image_path)\n",
        "right_image = Image.open(right_image_path)\n",
        "\n",
        "width1, height1 = left_image.size\n",
        "width2, height2 = right_image.size\n",
        "\n",
        "new_width = width1 + width2\n",
        "new_height = max(height1, height2)\n",
        "\n",
        "new_image = Image.new('RGB', (new_width, new_height))\n",
        "\n",
        "new_image.paste(left_image, (0, 0))\n",
        "new_image.paste(right_image, (width1, 0))\n",
        "\n",
        "new_image_path = '/content/merged_image.jpg'\n",
        "new_image.save(new_image_path)\n",
        "\n",
        "new_image.show()"
      ],
      "metadata": {
        "id": "SrOIaXWIxjfw"
      },
      "execution_count": null,
      "outputs": []
    }
  ]
}